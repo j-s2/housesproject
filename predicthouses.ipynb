{
 "cells": [
  {
   "cell_type": "code",
   "execution_count": null,
   "id": "52b697b9-e949-4df2-bc1c-f118f8bd8963",
   "metadata": {},
   "outputs": [],
   "source": [
    "import pandas as pd\n",
    "from sklearn.model_selection import train_test_split\n",
    "from sklearn.ensemble import RandomForestRegressor\n",
    "from sklearn.metrics import accuracy_score\n",
    "from sklearn.metrics import r2_score\n",
    "\n",
    "# read in file\n",
    "df = pd.read_csv(\"USA_Housing.csv\")"
   ]
  },
  {
   "cell_type": "code",
   "execution_count": null,
   "id": "f8fded1d-2dbd-41f4-808b-7b8ebbe700cf",
   "metadata": {},
   "outputs": [],
   "source": [
    "# delete unneeded column/feature\n",
    "del df[\"Address\"]"
   ]
  },
  {
   "cell_type": "code",
   "execution_count": null,
   "id": "623b79a3-6894-4850-b307-d774ad9198d1",
   "metadata": {},
   "outputs": [],
   "source": [
    "# check to see if there are any null values in the data frame\n",
    "nulls = pd.isnull(df)\n",
    "nulls = nulls.sum()"
   ]
  },
  {
   "cell_type": "code",
   "execution_count": null,
   "id": "983178d7-75f7-4e4d-a5ec-0f8e55ab4687",
   "metadata": {},
   "outputs": [],
   "source": [
    "# create list of predictors\n",
    "predictors = [\"Avg. Area Income\", \"Avg. Area House Age\", \"Avg. Area Number of Rooms\", \"Avg. Area Number of Bedrooms\", \"Area Population\"]\n",
    "target = \"Price\""
   ]
  },
  {
   "cell_type": "code",
   "execution_count": null,
   "id": "20bb3f8e-c79c-41c5-9687-71fbf4af8b1f",
   "metadata": {},
   "outputs": [],
   "source": [
    "# splits for cross validation\n",
    "train, test = train_test_split(df, train_size = 0.7, test_size = 0.3, random_state = 10)"
   ]
  },
  {
   "cell_type": "code",
   "execution_count": null,
   "id": "2276af1e-5778-4059-95d3-cdbc2c341fb9",
   "metadata": {},
   "outputs": [],
   "source": [
    "# initialize random forest\n",
    "randomForest = RandomForestRegressor(min_samples_split=10, random_state=1)\n",
    "randomForest.fit(train[predictors], train[target])\n",
    "predictions = randomForest.predict(test[predictors])"
   ]
  },
  {
   "cell_type": "code",
   "execution_count": null,
   "id": "faeacb07-a3b0-4536-b11e-c5f1ecc53c19",
   "metadata": {},
   "outputs": [],
   "source": [
    "# measure accuracy of model\n",
    "accuracy = r2_score(test[target], predictions)\n",
    "print(f\"Accuracy: {accuracy:>7f}\")"
   ]
  },
  {
   "cell_type": "code",
   "execution_count": null,
   "id": "ef732bc6-91c9-4dde-8885-e5b18173eb76",
   "metadata": {},
   "outputs": [],
   "source": [
    "# combine predictions and actual values into one data frame \n",
    "predictions = pd.Series(predictions, index=test.index) \n",
    "combined = pd.concat([test[target], predictions], axis=1)        \n",
    "# rename columns \n",
    "combined.columns = [\"actual\", \"prediction\"]"
   ]
  },
  {
   "cell_type": "code",
   "execution_count": null,
   "id": "fac5021c-5ef0-4692-aca2-7d7104b4c383",
   "metadata": {},
   "outputs": [],
   "source": [
    "print(combined)"
   ]
  },
  {
   "cell_type": "code",
   "execution_count": null,
   "id": "3afdd8fe-a7bd-4d1f-97cc-8395fb773cc1",
   "metadata": {},
   "outputs": [],
   "source": []
  }
 ],
 "metadata": {
  "kernelspec": {
   "display_name": "Python 3 (ipykernel)",
   "language": "python",
   "name": "python3"
  },
  "language_info": {
   "codemirror_mode": {
    "name": "ipython",
    "version": 3
   },
   "file_extension": ".py",
   "mimetype": "text/x-python",
   "name": "python",
   "nbconvert_exporter": "python",
   "pygments_lexer": "ipython3",
   "version": "3.10.11"
  }
 },
 "nbformat": 4,
 "nbformat_minor": 5
}
